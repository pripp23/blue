{
 "cells": [
  {
   "cell_type": "code",
   "execution_count": 47,
   "id": "b451b2eb",
   "metadata": {},
   "outputs": [],
   "source": [
    "import pandas as pd\n",
    "import numpy as np\n",
    "#df = pd.read_csv(\"\")"
   ]
  },
  {
   "cell_type": "code",
   "execution_count": 6,
   "id": "4929d436",
   "metadata": {},
   "outputs": [
    {
     "data": {
      "image/png": "[encoded data removed]",
      "text/plain": [
       "<Figure size 432x288 with 1 Axes>"
      ]
     },
     "metadata": {
      "needs_background": "light"
     },
     "output_type": "display_data"
    }
   ],
   "source": [
    "import matplotlib.pyplot as plt\n",
    "\n",
    "# set up the figure\n",
    "fig = plt.figure()\n",
    "ax = fig.add_subplot(111)\n",
    "ax.set_xlim(0,15)\n",
    "ax.set_ylim(0,10)\n",
    "\n",
    "#title\n",
    "plt.title(\"Resilience\", fontweight = \"bold\")\n",
    "\n",
    "# draw lines\n",
    "xmin = 0\n",
    "xmax = 15\n",
    "y = 8\n",
    "height = 1\n",
    "\n",
    "plt.hlines(y, xmin, xmax)\n",
    "plt.vlines(xmin, y - height / 2., y + height / 2.)\n",
    "plt.vlines(xmax, y - height / 2., y + height / 2.)\n",
    "\n",
    "#Intermediate points\n",
    "#plt.vlines(xmin + 3.75, y - height / 2., y + height / 2.)\n",
    "#plt.vlines(xmin + 7.5, y - height / 2., y + height / 2.)\n",
    "#plt.vlines(xmax - 3.75, y - height / 2., y + height / 2.)\n",
    "\n",
    "# draw a point on the line\n",
    "px = 14.73\n",
    "plt.plot(px,y, 'ro', ms = 15, mfc = 'r')\n",
    "\n",
    "# add an arrow\n",
    "#plt.annotate('Average Confidence', (px,y), xytext = (px - 1, y + 1), \n",
    " #             arrowprops=dict(facecolor='black', shrink=0.1), \n",
    "  #            horizontalalignment='right')\n",
    "\n",
    "# add labels\n",
    "# End points\n",
    "plt.text(xmin, y + 1, 'Not Resilient', horizontalalignment='center')\n",
    "plt.text(xmax, y + 1, 'Resilient', horizontalalignment='center')\n",
    "\n",
    "#Intermediate labels\n",
    "#plt.text(xmin + 3.75, y + 1, 'Disagree', horizontalalignment='center')\n",
    "#plt.text(xmin + 7.5, y + 1, 'Neutral', horizontalalignment='center')\n",
    "#plt.text(xmax - 3.75, y + 1, 'Agree', horizontalalignment='center')\n",
    "\n",
    "plt.axis('off')\n",
    "plt.show()\n",
    "\n"
   ]
  },
  {
   "cell_type": "code",
   "execution_count": 7,
   "id": "75cef735",
   "metadata": {},
   "outputs": [],
   "source": [
    "fig.savefig(\"Res_comp.png\")"
   ]
  }
 ],
 "metadata": {
  "kernelspec": {
   "display_name": "Python 3 (ipykernel)",
   "language": "python",
   "name": "python3"
  },
  "language_info": {
   "codemirror_mode": {
    "name": "ipython",
    "version": 3
   },
   "file_extension": ".py",
   "mimetype": "text/x-python",
   "name": "python",
   "nbconvert_exporter": "python",
   "pygments_lexer": "ipython3",
   "version": "3.9.7"
  }
 },
 "nbformat": 4,
 "nbformat_minor": 5
}
