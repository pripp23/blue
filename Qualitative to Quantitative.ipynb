{
 "cells": [
  {
   "cell_type": "code",
   "execution_count": 96,
   "id": "bca44dd6-1b8b-4ec1-9acb-2f76556a454a",
   "metadata": {},
   "outputs": [],
   "source": [
    "import pandas as pd\n",
    "import numpy as np"
   ]
  },
  {
   "cell_type": "markdown",
   "id": "c1ee684a-a627-4f66-b859-6300ed0a915f",
   "metadata": {},
   "source": [
    "This code can be used for all 6 excel files to make some of the qualitative data into quantitative data. Just change out the CSV file, make sure you have the correct amount of Q8's, and output to a different name every time."
   ]
  },
  {
   "cell_type": "code",
   "execution_count": 97,
   "id": "3573f53f-30b6-4006-bfe7-fe45dbacaee4",
   "metadata": {},
   "outputs": [],
   "source": [
    "df = pd.read_csv(\"2022F_cleaned.csv\")"
   ]
  },
  {
   "cell_type": "code",
   "execution_count": 98,
   "id": "db597172-1695-479a-bb21-97e2f0bc349f",
   "metadata": {},
   "outputs": [],
   "source": [
    "df['Q8_1Num'] = 1\n",
    "df.loc[df['Q8_1']=='Disagree','Q8_1Num'] = 2\n",
    "df.loc[df['Q8_1']=='Neutral','Q8_1Num'] = 3\n",
    "df.loc[(df['Q8_1']=='Agree'),'Q8_1Num'] = 4\n",
    "df.loc[df['Q8_1']=='Strongly agree','Q8_1Num'] = 5"
   ]
  },
  {
   "cell_type": "code",
   "execution_count": 99,
   "id": "8aff4ef8-1a3b-456f-ace4-0d466541ed30",
   "metadata": {},
   "outputs": [],
   "source": [
    "df['Q8_2Num'] = 1\n",
    "df.loc[df['Q8_2']=='Disagree','Q8_2Num'] = 2\n",
    "df.loc[df['Q8_2']=='Neutral','Q8_2Num'] = 3\n",
    "df.loc[df['Q8_2']=='Agree','Q8_2Num'] = 4\n",
    "df.loc[df['Q8_2']=='Strongly agree','Q8_2Num'] = 5"
   ]
  },
  {
   "cell_type": "code",
   "execution_count": 100,
   "id": "83fe0090-033d-4f1e-afcb-6d11f7e19e61",
   "metadata": {},
   "outputs": [],
   "source": [
    "df['Q8_3Num'] = 1\n",
    "df.loc[df['Q8_3']=='Disagree','Q8_3Num'] = 2\n",
    "df.loc[df['Q8_3']=='Neutral','Q8_3Num'] = 3\n",
    "df.loc[df['Q8_3']=='Agree','Q8_3Num'] = 4\n",
    "df.loc[df['Q8_3']=='Strongly agree','Q8_3Num'] = 5"
   ]
  },
  {
   "cell_type": "code",
   "execution_count": 101,
   "id": "83d2a01b-8e14-4850-a22f-726247ee896c",
   "metadata": {},
   "outputs": [],
   "source": [
    "df['Q8_4Num'] = 1\n",
    "df.loc[df['Q8_4']=='Disagree','Q8_4Num'] = 2\n",
    "df.loc[df['Q8_4']=='Neutral','Q8_4Num'] = 3\n",
    "df.loc[df['Q8_4']=='Agree','Q8_4Num'] = 4\n",
    "df.loc[df['Q8_4']=='Strongly agree','Q8_4Num'] = 5"
   ]
  },
  {
   "cell_type": "code",
   "execution_count": 102,
   "id": "39572363-d433-479f-9cd4-e494a6cbd9eb",
   "metadata": {},
   "outputs": [],
   "source": [
    "df['Q8_5Num'] = 1\n",
    "df.loc[df['Q8_5']=='Disagree','Q8_5Num'] = 2\n",
    "df.loc[df['Q8_5']=='Neutral','Q8_5Num'] = 3\n",
    "df.loc[df['Q8_5']=='Agree','Q8_5Num'] = 4\n",
    "df.loc[df['Q8_5']=='Strongly agree','Q8_5Num'] = 5"
   ]
  },
  {
   "cell_type": "code",
   "execution_count": 103,
   "id": "8827619a-0c81-4c13-bf1a-20f093c76833",
   "metadata": {},
   "outputs": [],
   "source": [
    "df['Q8_6Num'] = 1\n",
    "df.loc[df['Q8_6']=='Disagree','Q8_6Num'] = 2\n",
    "df.loc[df['Q8_6']=='Neutral','Q8_6Num'] = 3\n",
    "df.loc[df['Q8_6']=='Agree','Q8_6Num'] = 4\n",
    "df.loc[df['Q8_6']=='Strongly agree','Q8_6Num'] = 5"
   ]
  },
  {
   "cell_type": "code",
   "execution_count": 104,
   "id": "4e742fc2-fe29-4097-b1c3-09f2c4dc78fe",
   "metadata": {},
   "outputs": [],
   "source": [
    "df['Q8_7Num'] = 1\n",
    "df.loc[df['Q8_7']=='Disagree','Q8_7Num'] = 2\n",
    "df.loc[df['Q8_7']=='Neutral','Q8_7Num'] = 3\n",
    "df.loc[df['Q8_7']=='Agree','Q8_7Num'] = 4\n",
    "df.loc[df['Q8_7']=='Strongly agree','Q8_7Num'] = 5"
   ]
  },
  {
   "cell_type": "code",
   "execution_count": 105,
   "id": "465afc7c-89cd-44bc-bb50-f75c05aa7963",
   "metadata": {},
   "outputs": [],
   "source": [
    "df['Q8_8Num'] = 1\n",
    "df.loc[df['Q8_8']=='Disagree','Q8_8Num'] = 2\n",
    "df.loc[df['Q8_8']=='Neutral','Q8_8Num'] = 3\n",
    "df.loc[df['Q8_8']=='Agree','Q8_8Num'] = 4\n",
    "df.loc[df['Q8_8']=='Strongly agree','Q8_8Num'] = 5"
   ]
  },
  {
   "cell_type": "code",
   "execution_count": 106,
   "id": "1d928cc7-1eea-4a96-9695-01125310bc93",
   "metadata": {},
   "outputs": [],
   "source": [
    "#df['Q8_9Num'] = 1\n",
    "#df.loc[df['Q8_9']=='Disagree','Q8_9Num'] = 2\n",
    "#df.loc[df['Q8_9']=='Neutral','Q8_9Num'] = 3\n",
    "#df.loc[df['Q8_9']=='Agree','Q8_9Num'] = 4\n",
    "#df.loc[df['Q8_9']=='Strongly agree','Q8_9Num'] = 5"
   ]
  },
  {
   "cell_type": "code",
   "execution_count": 107,
   "id": "625a69b8-e6d0-4e34-a1d8-6ae5b9f1493d",
   "metadata": {},
   "outputs": [],
   "source": [
    "#df['Q8_10Num'] = 1\n",
    "#df.loc[df['Q8_10']=='Disagree','Q8_10Num'] = 2\n",
    "#df.loc[df['Q8_10']=='Neutral','Q8_10Num'] = 3\n",
    "#df.loc[df['Q8_10']=='Agree','Q8_10Num'] = 4\n",
    "#df.loc[df['Q8_10']=='Strongly agree','Q8_10Num'] = 5"
   ]
  },
  {
   "cell_type": "code",
   "execution_count": 108,
   "id": "7aaab744-76b5-436d-8c69-99ae3904976e",
   "metadata": {},
   "outputs": [],
   "source": [
    "df = df.drop(['Q8_1','Q8_2','Q8_3','Q8_4','Q8_5','Q8_6','Q8_7','Q8_8'], axis=1)"
   ]
  },
  {
   "cell_type": "code",
   "execution_count": 109,
   "id": "1783ec44-0818-4762-9d0c-68c9bdb32bb5",
   "metadata": {},
   "outputs": [],
   "source": [
    "df.to_csv(\"/Users/david/Documents/2022F_numerical.csv\")"
   ]
  }
 ],
 "metadata": {
  "kernelspec": {
   "display_name": "Python 3",
   "language": "python",
   "name": "python3"
  },
  "language_info": {
   "codemirror_mode": {
    "name": "ipython",
    "version": 3
   },
   "file_extension": ".py",
   "mimetype": "text/x-python",
   "name": "python",
   "nbconvert_exporter": "python",
   "pygments_lexer": "ipython3",
   "version": "3.8.8"
  }
 },
 "nbformat": 4,
 "nbformat_minor": 5
}
